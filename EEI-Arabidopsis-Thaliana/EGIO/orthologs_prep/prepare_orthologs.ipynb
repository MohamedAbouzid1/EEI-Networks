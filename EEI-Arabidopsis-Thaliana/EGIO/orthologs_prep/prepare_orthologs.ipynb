{
 "cells": [
  {
   "cell_type": "code",
   "execution_count": 2,
   "metadata": {},
   "outputs": [
    {
     "data": {
      "text/html": [
       "<div>\n",
       "<style scoped>\n",
       "    .dataframe tbody tr th:only-of-type {\n",
       "        vertical-align: middle;\n",
       "    }\n",
       "\n",
       "    .dataframe tbody tr th {\n",
       "        vertical-align: top;\n",
       "    }\n",
       "\n",
       "    .dataframe thead th {\n",
       "        text-align: right;\n",
       "    }\n",
       "</style>\n",
       "<table border=\"1\" class=\"dataframe\">\n",
       "  <thead>\n",
       "    <tr style=\"text-align: right;\">\n",
       "      <th></th>\n",
       "      <th>group_id</th>\n",
       "      <th>cluster_id</th>\n",
       "      <th>species</th>\n",
       "      <th>score</th>\n",
       "      <th>uniprot_id</th>\n",
       "      <th>bootstrap</th>\n",
       "    </tr>\n",
       "  </thead>\n",
       "  <tbody>\n",
       "    <tr>\n",
       "      <th>0</th>\n",
       "      <td>1</td>\n",
       "      <td>11982</td>\n",
       "      <td>9606.fa</td>\n",
       "      <td>1.0</td>\n",
       "      <td>Q5VST9</td>\n",
       "      <td>1.0</td>\n",
       "    </tr>\n",
       "    <tr>\n",
       "      <th>1</th>\n",
       "      <td>1</td>\n",
       "      <td>11982</td>\n",
       "      <td>10116.fa</td>\n",
       "      <td>1.0</td>\n",
       "      <td>A0A0G2K8N1</td>\n",
       "      <td>1.0</td>\n",
       "    </tr>\n",
       "    <tr>\n",
       "      <th>2</th>\n",
       "      <td>2</td>\n",
       "      <td>10721</td>\n",
       "      <td>9606.fa</td>\n",
       "      <td>1.0</td>\n",
       "      <td>Q03001</td>\n",
       "      <td>1.0</td>\n",
       "    </tr>\n",
       "    <tr>\n",
       "      <th>3</th>\n",
       "      <td>2</td>\n",
       "      <td>10721</td>\n",
       "      <td>10116.fa</td>\n",
       "      <td>1.0</td>\n",
       "      <td>D3ZC56</td>\n",
       "      <td>1.0</td>\n",
       "    </tr>\n",
       "    <tr>\n",
       "      <th>4</th>\n",
       "      <td>3</td>\n",
       "      <td>10047</td>\n",
       "      <td>9606.fa</td>\n",
       "      <td>1.0</td>\n",
       "      <td>Q8WXG9</td>\n",
       "      <td>1.0</td>\n",
       "    </tr>\n",
       "  </tbody>\n",
       "</table>\n",
       "</div>"
      ],
      "text/plain": [
       "   group_id  cluster_id   species  score  uniprot_id  bootstrap\n",
       "0         1       11982   9606.fa    1.0      Q5VST9        1.0\n",
       "1         1       11982  10116.fa    1.0  A0A0G2K8N1        1.0\n",
       "2         2       10721   9606.fa    1.0      Q03001        1.0\n",
       "3         2       10721  10116.fa    1.0      D3ZC56        1.0\n",
       "4         3       10047   9606.fa    1.0      Q8WXG9        1.0"
      ]
     },
     "execution_count": 2,
     "metadata": {},
     "output_type": "execute_result"
    }
   ],
   "source": [
    "# Extract and save IDs to files for BioMart upload\n",
    "import pandas as pd\n",
    "\n",
    "# Load your data\n",
    "df = pd.read_csv('SQLtable.9606.fa-10116.fa', sep='\\t', \n",
    "                 names=['group_id', 'cluster_id', 'species', 'score', 'uniprot_id', 'bootstrap'])\n",
    "df.head()"
   ]
  },
  {
   "cell_type": "code",
   "execution_count": 7,
   "metadata": {},
   "outputs": [
    {
     "name": "stdout",
     "output_type": "stream",
     "text": [
      "Created human_uniprot_ids.txt with 16579 IDs\n",
      "Created rat_uniprot_ids.txt with 16579 IDs\n"
     ]
    }
   ],
   "source": [
    "\n",
    "# Filter main orthologs\n",
    "main_orthologs = df[df['score'] == 1.0]\n",
    "\n",
    "# Extract human IDs\n",
    "human_ids = main_orthologs[main_orthologs['species'] == '9606.fa']['uniprot_id'].unique()\n",
    "with open('human_uniprot_ids.txt', 'w') as f:\n",
    "    for uid in human_ids:\n",
    "        f.write(f'{uid}\\n')\n",
    "\n",
    "# Extract yeast IDs  \n",
    "yeast_ids = main_orthologs[main_orthologs['species'] == '10116.fa']['uniprot_id'].unique()\n",
    "with open('rat_uniprot_ids.txt', 'w') as f:\n",
    "    for uid in yeast_ids:\n",
    "        f.write(f'{uid}\\n')\n",
    "\n",
    "print(f\"Created human_uniprot_ids.txt with {len(human_ids)} IDs\")\n",
    "print(f\"Created rat_uniprot_ids.txt with {len(yeast_ids)} IDs\")"
   ]
  },
  {
   "cell_type": "code",
   "execution_count": 8,
   "metadata": {},
   "outputs": [
    {
     "name": "stdout",
     "output_type": "stream",
     "text": [
      "total 1560\n",
      "-rw-r--r-- 1 bbf3630 7073630  116373 Jun  4 15:37 human_uniprot_ids.txt\n",
      "-rw-r--r-- 1 bbf3630 7073630   23173 Jun  4 15:33 prepare_orthologs.ipynb\n",
      "-rw-r--r-- 1 bbf3630 7073630  121081 Jun  4 15:37 rat_uniprot_ids.txt\n",
      "-rw-r--r-- 1 bbf3630 7073630 1158427 Jun  4 15:32 SQLtable.9606.fa-10116.fa\n"
     ]
    }
   ],
   "source": [
    "!ls -l"
   ]
  },
  {
   "cell_type": "code",
   "execution_count": 9,
   "metadata": {},
   "outputs": [],
   "source": [
    "# Filter for main orthologs (score = 1.0)\n",
    "main_orthologs = df[df['score'] == 1.0]\n",
    "\n",
    "# Separate by species\n",
    "human_orthologs = main_orthologs[main_orthologs['species'] == '9606.fa']\n",
    "rat_orthologs = main_orthologs[main_orthologs['species'] == '10116.fa']\n"
   ]
  },
  {
   "cell_type": "code",
   "execution_count": 10,
   "metadata": {},
   "outputs": [
    {
     "data": {
      "text/html": [
       "<div>\n",
       "<style scoped>\n",
       "    .dataframe tbody tr th:only-of-type {\n",
       "        vertical-align: middle;\n",
       "    }\n",
       "\n",
       "    .dataframe tbody tr th {\n",
       "        vertical-align: top;\n",
       "    }\n",
       "\n",
       "    .dataframe thead th {\n",
       "        text-align: right;\n",
       "    }\n",
       "</style>\n",
       "<table border=\"1\" class=\"dataframe\">\n",
       "  <thead>\n",
       "    <tr style=\"text-align: right;\">\n",
       "      <th></th>\n",
       "      <th>group_id</th>\n",
       "      <th>cluster_id</th>\n",
       "      <th>species</th>\n",
       "      <th>score</th>\n",
       "      <th>uniprot_id</th>\n",
       "      <th>bootstrap</th>\n",
       "    </tr>\n",
       "  </thead>\n",
       "  <tbody>\n",
       "    <tr>\n",
       "      <th>1</th>\n",
       "      <td>1</td>\n",
       "      <td>11982</td>\n",
       "      <td>10116.fa</td>\n",
       "      <td>1.0</td>\n",
       "      <td>A0A0G2K8N1</td>\n",
       "      <td>1.0</td>\n",
       "    </tr>\n",
       "    <tr>\n",
       "      <th>3</th>\n",
       "      <td>2</td>\n",
       "      <td>10721</td>\n",
       "      <td>10116.fa</td>\n",
       "      <td>1.0</td>\n",
       "      <td>D3ZC56</td>\n",
       "      <td>1.0</td>\n",
       "    </tr>\n",
       "    <tr>\n",
       "      <th>5</th>\n",
       "      <td>3</td>\n",
       "      <td>10047</td>\n",
       "      <td>10116.fa</td>\n",
       "      <td>1.0</td>\n",
       "      <td>A0A096MK89</td>\n",
       "      <td>1.0</td>\n",
       "    </tr>\n",
       "    <tr>\n",
       "      <th>7</th>\n",
       "      <td>4</td>\n",
       "      <td>9941</td>\n",
       "      <td>10116.fa</td>\n",
       "      <td>1.0</td>\n",
       "      <td>F1M4Q3</td>\n",
       "      <td>1.0</td>\n",
       "    </tr>\n",
       "    <tr>\n",
       "      <th>9</th>\n",
       "      <td>5</td>\n",
       "      <td>9710</td>\n",
       "      <td>10116.fa</td>\n",
       "      <td>1.0</td>\n",
       "      <td>Q2TL32</td>\n",
       "      <td>1.0</td>\n",
       "    </tr>\n",
       "  </tbody>\n",
       "</table>\n",
       "</div>"
      ],
      "text/plain": [
       "   group_id  cluster_id   species  score  uniprot_id  bootstrap\n",
       "1         1       11982  10116.fa    1.0  A0A0G2K8N1        1.0\n",
       "3         2       10721  10116.fa    1.0      D3ZC56        1.0\n",
       "5         3       10047  10116.fa    1.0  A0A096MK89        1.0\n",
       "7         4        9941  10116.fa    1.0      F1M4Q3        1.0\n",
       "9         5        9710  10116.fa    1.0      Q2TL32        1.0"
      ]
     },
     "execution_count": 10,
     "metadata": {},
     "output_type": "execute_result"
    }
   ],
   "source": [
    "rat_orthologs.head()"
   ]
  },
  {
   "cell_type": "code",
   "execution_count": 11,
   "metadata": {},
   "outputs": [
    {
     "data": {
      "text/html": [
       "<div>\n",
       "<style scoped>\n",
       "    .dataframe tbody tr th:only-of-type {\n",
       "        vertical-align: middle;\n",
       "    }\n",
       "\n",
       "    .dataframe tbody tr th {\n",
       "        vertical-align: top;\n",
       "    }\n",
       "\n",
       "    .dataframe thead th {\n",
       "        text-align: right;\n",
       "    }\n",
       "</style>\n",
       "<table border=\"1\" class=\"dataframe\">\n",
       "  <thead>\n",
       "    <tr style=\"text-align: right;\">\n",
       "      <th></th>\n",
       "      <th>group_id</th>\n",
       "      <th>cluster_id</th>\n",
       "      <th>species</th>\n",
       "      <th>score</th>\n",
       "      <th>uniprot_id</th>\n",
       "      <th>bootstrap</th>\n",
       "    </tr>\n",
       "  </thead>\n",
       "  <tbody>\n",
       "    <tr>\n",
       "      <th>0</th>\n",
       "      <td>1</td>\n",
       "      <td>11982</td>\n",
       "      <td>9606.fa</td>\n",
       "      <td>1.0</td>\n",
       "      <td>Q5VST9</td>\n",
       "      <td>1.0</td>\n",
       "    </tr>\n",
       "    <tr>\n",
       "      <th>2</th>\n",
       "      <td>2</td>\n",
       "      <td>10721</td>\n",
       "      <td>9606.fa</td>\n",
       "      <td>1.0</td>\n",
       "      <td>Q03001</td>\n",
       "      <td>1.0</td>\n",
       "    </tr>\n",
       "    <tr>\n",
       "      <th>4</th>\n",
       "      <td>3</td>\n",
       "      <td>10047</td>\n",
       "      <td>9606.fa</td>\n",
       "      <td>1.0</td>\n",
       "      <td>Q8WXG9</td>\n",
       "      <td>1.0</td>\n",
       "    </tr>\n",
       "    <tr>\n",
       "      <th>6</th>\n",
       "      <td>4</td>\n",
       "      <td>9941</td>\n",
       "      <td>9606.fa</td>\n",
       "      <td>1.0</td>\n",
       "      <td>Q96RW7</td>\n",
       "      <td>1.0</td>\n",
       "    </tr>\n",
       "    <tr>\n",
       "      <th>8</th>\n",
       "      <td>5</td>\n",
       "      <td>9710</td>\n",
       "      <td>9606.fa</td>\n",
       "      <td>1.0</td>\n",
       "      <td>Q5T4S7</td>\n",
       "      <td>1.0</td>\n",
       "    </tr>\n",
       "  </tbody>\n",
       "</table>\n",
       "</div>"
      ],
      "text/plain": [
       "   group_id  cluster_id  species  score uniprot_id  bootstrap\n",
       "0         1       11982  9606.fa    1.0     Q5VST9        1.0\n",
       "2         2       10721  9606.fa    1.0     Q03001        1.0\n",
       "4         3       10047  9606.fa    1.0     Q8WXG9        1.0\n",
       "6         4        9941  9606.fa    1.0     Q96RW7        1.0\n",
       "8         5        9710  9606.fa    1.0     Q5T4S7        1.0"
      ]
     },
     "execution_count": 11,
     "metadata": {},
     "output_type": "execute_result"
    }
   ],
   "source": [
    "human_orthologs.head()\n"
   ]
  },
  {
   "cell_type": "code",
   "execution_count": 12,
   "metadata": {},
   "outputs": [],
   "source": [
    "\n",
    "# Find ortholog pairs\n",
    "ortholog_pairs = []\n",
    "for group_id in main_orthologs['group_id'].unique():\n",
    "    human_genes = human_orthologs[human_orthologs['group_id'] == group_id]['uniprot_id'].tolist()\n",
    "    rat_genes = rat_orthologs[rat_orthologs['group_id'] == group_id]['uniprot_id'].tolist()\n",
    "    \n",
    "    # Create pairs (handling 1:many relationships)\n",
    "    for h_gene in human_genes:\n",
    "        for r_gene in rat_genes:\n",
    "            ortholog_pairs.append((h_gene, r_gene))\n",
    "\n",
    "# Save UniProt pairs for conversion\n",
    "with open('uniprot_pairs.txt', 'w') as f:\n",
    "    f.write('human_uniprot\\trat_uniprot\\n')\n",
    "    for h, y in ortholog_pairs:\n",
    "        f.write(f'{h}\\t{y}\\n')"
   ]
  },
  {
   "cell_type": "code",
   "execution_count": 13,
   "metadata": {},
   "outputs": [
    {
     "name": "stdout",
     "output_type": "stream",
     "text": [
      "total 2304\n",
      "-rw-r--r-- 1 bbf3630 7073630  116373 Jun  4 15:37 human_uniprot_ids.txt\n",
      "-rw-r--r-- 1 bbf3630 7073630   23173 Jun  4 15:33 prepare_orthologs.ipynb\n",
      "-rw-r--r-- 1 bbf3630 7073630  121081 Jun  4 15:37 rat_uniprot_ids.txt\n",
      "-rw-r--r-- 1 bbf3630 7073630 1158427 Jun  4 15:32 SQLtable.9606.fa-10116.fa\n",
      "-rw-r--r-- 1 bbf3630 7073630  239330 Jun  4 15:41 uniprot_pairs.txt\n"
     ]
    }
   ],
   "source": [
    "!ls -l"
   ]
  },
  {
   "cell_type": "code",
   "execution_count": 14,
   "metadata": {},
   "outputs": [
    {
     "name": "stdout",
     "output_type": "stream",
     "text": [
      "human_uniprot\trat_uniprot\n",
      "Q5VST9\tA0A0G2K8N1\n",
      "Q03001\tD3ZC56\n",
      "Q8WXG9\tA0A096MK89\n",
      "Q96RW7\tF1M4Q3\n",
      "Q5T4S7\tQ2TL32\n",
      "Q2LD37\tA0A096MJT6\n",
      "Q92736\tB0LPN4\n",
      "O95714\tA0A0G2JUC9\n",
      "Q15751\tA0A0G2JTT6\n"
     ]
    }
   ],
   "source": [
    "!head uniprot_pairs.txt"
   ]
  },
  {
   "cell_type": "code",
   "execution_count": null,
   "metadata": {},
   "outputs": [],
   "source": [
    "\n",
    "def create_egio_ortholog_file():\n",
    "    # Load the mapping files from BioMart\n",
    "    human_mapping = pd.read_csv('mart_export_human.txt', sep='\\t')\n",
    "    species_mapping = pd.read_csv('mart_export_AT.txt', sep='\\t')\n",
    "    \n",
    "    # Load the UniProt ortholog pairs\n",
    "    uniprot_pairs = pd.read_csv('uniprot_pairs.txt', sep='\\t')\n",
    "    \n",
    "    # Clean column names (remove any extra spaces)\n",
    "    human_mapping.columns = human_mapping.columns.str.strip()\n",
    "    rat_mapping.columns = rat_mapping.columns.str.strip()\n",
    "    uniprot_pairs.columns = uniprot_pairs.columns.str.strip()\n",
    "    \n",
    "    # Create dictionaries for faster lookup\n",
    "    # Handle potential duplicates by taking the first match\n",
    "    human_uniprot_to_ensembl = human_mapping.drop_duplicates('UniProtKB/Swiss-Prot ID').set_index('UniProtKB/Swiss-Prot ID')['Gene stable ID'].to_dict()\n",
    "    rat_uniprot_to_ensembl = rat_mapping.drop_duplicates('UniProtKB/Swiss-Prot ID').set_index('UniProtKB/Swiss-Prot ID')['Gene stable ID'].to_dict()\n",
    "    \n",
    "    print(f\"Human mapping: {len(human_uniprot_to_ensembl)} UniProt -> Ensembl\")\n",
    "    print(f\"Rat mapping: {len(rat_uniprot_to_ensembl)} UniProt -> Ensembl\")\n",
    "    print(f\"UniProt pairs: {len(uniprot_pairs)} pairs\")\n",
    "    \n",
    "    # Map UniProt pairs to Ensembl pairs\n",
    "    ensembl_pairs = []\n",
    "    missing_human = []\n",
    "    missing_rat = []\n",
    "    \n",
    "    for _, row in uniprot_pairs.iterrows():\n",
    "        human_uniprot = row['human_uniprot']\n",
    "        rat_uniprot = row['rat_uniprot']\n",
    "        \n",
    "        # Look up Ensembl IDs\n",
    "        human_ensembl = human_uniprot_to_ensembl.get(human_uniprot)\n",
    "        rat_ensembl = rat_uniprot_to_ensembl.get(rat_uniprot)\n",
    "        \n",
    "        if human_ensembl and rat_ensembl:\n",
    "            ensembl_pairs.append((human_ensembl, rat_ensembl))\n",
    "        else:\n",
    "            if not human_ensembl:\n",
    "                missing_human.append(human_uniprot)\n",
    "            if not rat_ensembl:\n",
    "                missing_rat.append(rat_uniprot)\n",
    "    \n",
    "    # Remove duplicates\n",
    "    ensembl_pairs = list(set(ensembl_pairs))\n",
    "    \n",
    "    print(f\"\\nSuccessfully mapped: {len(ensembl_pairs)} ortholog pairs\")\n",
    "    print(f\"Missing human mappings: {len(set(missing_human))}\")\n",
    "    print(f\"Missing rat mappings: {len(set(missing_rat))}\")\n",
    "    \n",
    "    # Write the final EGIO input file\n",
    "    with open('homogene.txt', 'w') as f:\n",
    "        f.write('hsa\\tsce\\n')  # Header\n",
    "        for human_gene, rat_gene in sorted(ensembl_pairs):\n",
    "            f.write(f'{human_gene}\\t{rat_gene}\\n')\n",
    "    \n",
    "    print(f\"\\nCreated homogene.txt with {len(ensembl_pairs)} ortholog pairs\")\n",
    "    \n",
    "    # Print some examples\n",
    "    print(\"\\nFirst 5 ortholog pairs:\")\n",
    "    for i, (h, y) in enumerate(sorted(ensembl_pairs)[:5]):\n",
    "        print(f\"{h}\\t{y}\")\n",
    "    \n",
    "    # Print missing IDs summary (first few)\n",
    "    if missing_human:\n",
    "        print(f\"\\nSome missing human UniProt IDs: {missing_human[:5]}\")\n",
    "    if missing_rat:\n",
    "        print(f\"Some missing rat UniProt IDs: {missing_rat[:5]}\")\n"
   ]
  },
  {
   "cell_type": "code",
   "execution_count": 16,
   "metadata": {},
   "outputs": [
    {
     "name": "stdout",
     "output_type": "stream",
     "text": [
      "Human mapping: 16409 UniProt -> Ensembl\n",
      "Rat mapping: 4632 UniProt -> Ensembl\n",
      "UniProt pairs: 16698 pairs\n",
      "\n",
      "Successfully mapped: 4624 ortholog pairs\n",
      "Missing human mappings: 170\n",
      "Missing rat mappings: 11947\n",
      "\n",
      "Created homogene.txt with 4624 ortholog pairs\n",
      "\n",
      "First 5 ortholog pairs:\n",
      "ENSG00000000005\tENSRNOG00000060970\n",
      "ENSG00000000460\tENSRNOG00000059276\n",
      "ENSG00000000938\tENSRNOG00000009912\n",
      "ENSG00000001036\tENSRNOG00000015551\n",
      "ENSG00000001084\tENSRNOG00000006302\n",
      "\n",
      "Some missing human UniProt IDs: ['A2VEC9', 'Q9Y4D8', 'Q9UMZ3', 'Q7Z2Y8', 'P24928']\n",
      "Some missing rat UniProt IDs: ['A0A0G2K8N1', 'D3ZC56', 'A0A096MK89', 'F1M4Q3', 'Q2TL32']\n"
     ]
    }
   ],
   "source": [
    "create_egio_ortholog_file()"
   ]
  },
  {
   "cell_type": "code",
   "execution_count": 17,
   "metadata": {},
   "outputs": [
    {
     "name": "stdout",
     "output_type": "stream",
     "text": [
      "total 4936\n",
      "-rw-r--r-- 1 bbf3630 7073630  161848 Jun  4 16:00 homogene.txt\n",
      "-rw-r--r-- 1 bbf3630 7073630  116373 Jun  4 15:37 human_uniprot_ids.txt\n",
      "-rw-r--r-- 1 bbf3630 7073630 1017152 Jun  4 15:58 mart_export_human.txt\n",
      "-rw-r--r-- 1 bbf3630 7073630  136811 Jun  4 15:58 mart_export_rat.txt\n",
      "-rw-r--r-- 1 bbf3630 7073630   23173 Jun  4 15:33 prepare_orthologs.ipynb\n",
      "-rw-r--r-- 1 bbf3630 7073630  121081 Jun  4 15:37 rat_uniprot_ids.txt\n",
      "-rw-r--r-- 1 bbf3630 7073630 1158427 Jun  4 15:32 SQLtable.9606.fa-10116.fa\n",
      "-rw-r--r-- 1 bbf3630 7073630  239330 Jun  4 15:41 uniprot_pairs.txt\n"
     ]
    }
   ],
   "source": [
    "!ls -l"
   ]
  },
  {
   "cell_type": "code",
   "execution_count": 20,
   "metadata": {},
   "outputs": [
    {
     "name": "stdout",
     "output_type": "stream",
     "text": [
      "4625 homogene.txt\n"
     ]
    }
   ],
   "source": [
    "!wc -l homogene.txt"
   ]
  },
  {
   "cell_type": "code",
   "execution_count": 3,
   "metadata": {},
   "outputs": [],
   "source": [
    "import pandas as pd\n",
    "\n",
    "def create_egio_ortholog_file():\n",
    "    # Load the mapping files from BioMart\n",
    "    human_mapping = pd.read_csv('mart_export_human.txt', sep='\\t')\n",
    "    ath_mapping = pd.read_csv('mart_export_AT.txt', sep='\\t')\n",
    "    \n",
    "    # Load the UniProt ortholog pairs (must have columns: human_uniprot, arabidopsis_uniprot)\n",
    "    uniprot_pairs = pd.read_csv('uniprot_pairs.txt', sep='\\t')\n",
    "    \n",
    "    # Clean column names\n",
    "    human_mapping.columns = human_mapping.columns.str.strip()\n",
    "    ath_mapping.columns = ath_mapping.columns.str.strip()\n",
    "    uniprot_pairs.columns = uniprot_pairs.columns.str.strip()\n",
    "    \n",
    "    # Create UniProt → Ensembl dictionaries\n",
    "    human_uniprot_to_ensembl = (\n",
    "        human_mapping.drop_duplicates('UniProtKB/Swiss-Prot ID')\n",
    "        .set_index('UniProtKB/Swiss-Prot ID')['Gene stable ID']\n",
    "        .to_dict()\n",
    "    )\n",
    "    ath_uniprot_to_ensembl = (\n",
    "        ath_mapping.drop_duplicates('UniProtKB/Swiss-Prot ID')\n",
    "        .set_index('UniProtKB/Swiss-Prot ID')['Gene stable ID']\n",
    "        .to_dict()\n",
    "    )\n",
    "    \n",
    "    print(f\"Human mapping: {len(human_uniprot_to_ensembl)} UniProt -> Ensembl\")\n",
    "    print(f\"Arabidopsis mapping: {len(ath_uniprot_to_ensembl)} UniProt -> Ensembl\")\n",
    "    print(f\"UniProt pairs: {len(uniprot_pairs)} pairs\")\n",
    "    \n",
    "    # Map UniProt pairs to Ensembl pairs\n",
    "    ensembl_pairs = []\n",
    "    missing_human = []\n",
    "    missing_ath = []\n",
    "    \n",
    "    for _, row in uniprot_pairs.iterrows():\n",
    "        human_uniprot = row['human_uniprot']\n",
    "        ath_uniprot = row['arabidopsis_uniprot']\n",
    "        \n",
    "        human_ensembl = human_uniprot_to_ensembl.get(human_uniprot)\n",
    "        ath_ensembl = ath_uniprot_to_ensembl.get(ath_uniprot)\n",
    "        \n",
    "        if human_ensembl and ath_ensembl:\n",
    "            ensembl_pairs.append((human_ensembl, ath_ensembl))\n",
    "        else:\n",
    "            if not human_ensembl:\n",
    "                missing_human.append(human_uniprot)\n",
    "            if not ath_ensembl:\n",
    "                missing_ath.append(ath_uniprot)\n",
    "    \n",
    "    # Remove duplicates\n",
    "    ensembl_pairs = list(set(ensembl_pairs))\n",
    "    \n",
    "    print(f\"\\nSuccessfully mapped: {len(ensembl_pairs)} ortholog pairs\")\n",
    "    print(f\"Missing human mappings: {len(set(missing_human))}\")\n",
    "    print(f\"Missing Arabidopsis mappings: {len(set(missing_ath))}\")\n",
    "    \n",
    "    # Write EGIO input file\n",
    "    with open('homogene.txt', 'w') as f:\n",
    "        f.write('hsa\\tath\\n')  # hsa = human, ath = arabidopsis\n",
    "        for h_gene, ath_gene in sorted(ensembl_pairs):\n",
    "            f.write(f'{h_gene}\\t{ath_gene}\\n')\n",
    "    \n",
    "    print(f\"\\nCreated homogene.txt with {len(ensembl_pairs)} ortholog pairs\")\n",
    "    \n",
    "    # Print examples\n",
    "    print(\"\\nFirst 5 ortholog pairs:\")\n",
    "    for i, (h, a) in enumerate(sorted(ensembl_pairs)[:5]):\n",
    "        print(f\"{h}\\t{a}\")\n",
    "    \n",
    "    if missing_human:\n",
    "        print(f\"\\nSome missing human UniProt IDs: {missing_human[:5]}\")\n",
    "    if missing_ath:\n",
    "        print(f\"Some missing Arabidopsis UniProt IDs: {missing_ath[:5]}\")\n"
   ]
  },
  {
   "cell_type": "code",
   "execution_count": 1,
   "metadata": {},
   "outputs": [
    {
     "name": "stdout",
     "output_type": "stream",
     "text": [
      "Created uniprot_pairs.txt with 3573 pairs\n"
     ]
    }
   ],
   "source": [
    "import pandas as pd\n",
    "\n",
    "# Load ortholog table\n",
    "df = pd.read_csv('SQLtable.3702.fa-9606.fa', sep='\\t', \n",
    "                 names=['group_id', 'cluster_id', 'species', 'score', 'uniprot_id', 'bootstrap'])\n",
    "\n",
    "# Keep only main orthologs (score == 1.0)\n",
    "main_orthologs = df[df['score'] == 1.0]\n",
    "\n",
    "# Separate species\n",
    "human_orthologs = main_orthologs[main_orthologs['species'] == '9606.fa']\n",
    "ath_orthologs   = main_orthologs[main_orthologs['species'] == '3702.fa']\n",
    "\n",
    "# Create ortholog pairs (handles 1:many)\n",
    "ortholog_pairs = []\n",
    "for group_id in main_orthologs['group_id'].unique():\n",
    "    human_genes = human_orthologs[human_orthologs['group_id'] == group_id]['uniprot_id'].tolist()\n",
    "    ath_genes   = ath_orthologs[ath_orthologs['group_id'] == group_id]['uniprot_id'].tolist()\n",
    "    \n",
    "    for h in human_genes:\n",
    "        for a in ath_genes:\n",
    "            ortholog_pairs.append((h, a))\n",
    "\n",
    "# Save UniProt pairs\n",
    "with open('uniprot_pairs.txt', 'w') as f:\n",
    "    f.write('human_uniprot\\tarabidopsis_uniprot\\n')\n",
    "    for h, a in ortholog_pairs:\n",
    "        f.write(f'{h}\\t{a}\\n')\n",
    "\n",
    "print(f\"Created uniprot_pairs.txt with {len(ortholog_pairs)} pairs\")\n"
   ]
  },
  {
   "cell_type": "code",
   "execution_count": 4,
   "metadata": {},
   "outputs": [
    {
     "name": "stdout",
     "output_type": "stream",
     "text": [
      "Human mapping: 2000 UniProt -> Ensembl\n",
      "Arabidopsis mapping: 15765 UniProt -> Ensembl\n",
      "UniProt pairs: 3573 pairs\n",
      "\n",
      "Successfully mapped: 1246 ortholog pairs\n",
      "Missing human mappings: 1648\n",
      "Missing Arabidopsis mappings: 897\n",
      "\n",
      "Created homogene.txt with 1246 ortholog pairs\n",
      "\n",
      "First 5 ortholog pairs:\n",
      "ENSG00000000419\tAT1G20575\n",
      "ENSG00000001630\tAT1G11680\n",
      "ENSG00000004455\tAT5G63400\n",
      "ENSG00000004779\tAT5G27200\n",
      "ENSG00000004897\tAT2G20000\n",
      "\n",
      "Some missing human UniProt IDs: ['P24928', 'Q13085', 'O60306', 'Q5T4S7', 'Q15029']\n",
      "Some missing Arabidopsis UniProt IDs: ['Q9FMF9', 'F4IPJ1', 'Q8L5Y4', 'F4HVV6', 'Q9FLH2']\n"
     ]
    }
   ],
   "source": [
    "create_egio_ortholog_file()"
   ]
  },
  {
   "cell_type": "code",
   "execution_count": null,
   "metadata": {},
   "outputs": [],
   "source": []
  }
 ],
 "metadata": {
  "kernelspec": {
   "display_name": "base",
   "language": "python",
   "name": "python3"
  },
  "language_info": {
   "codemirror_mode": {
    "name": "ipython",
    "version": 3
   },
   "file_extension": ".py",
   "mimetype": "text/x-python",
   "name": "python",
   "nbconvert_exporter": "python",
   "pygments_lexer": "ipython3",
   "version": "3.12.9"
  }
 },
 "nbformat": 4,
 "nbformat_minor": 2
}
