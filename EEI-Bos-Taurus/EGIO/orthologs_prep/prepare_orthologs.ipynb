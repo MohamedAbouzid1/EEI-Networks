{
 "cells": [
  {
   "cell_type": "code",
   "execution_count": 16,
   "metadata": {},
   "outputs": [
    {
     "data": {
      "text/html": [
       "<div>\n",
       "<style scoped>\n",
       "    .dataframe tbody tr th:only-of-type {\n",
       "        vertical-align: middle;\n",
       "    }\n",
       "\n",
       "    .dataframe tbody tr th {\n",
       "        vertical-align: top;\n",
       "    }\n",
       "\n",
       "    .dataframe thead th {\n",
       "        text-align: right;\n",
       "    }\n",
       "</style>\n",
       "<table border=\"1\" class=\"dataframe\">\n",
       "  <thead>\n",
       "    <tr style=\"text-align: right;\">\n",
       "      <th></th>\n",
       "      <th>group_id</th>\n",
       "      <th>cluster_id</th>\n",
       "      <th>species</th>\n",
       "      <th>score</th>\n",
       "      <th>uniprot_id</th>\n",
       "      <th>bootstrap</th>\n",
       "    </tr>\n",
       "  </thead>\n",
       "  <tbody>\n",
       "    <tr>\n",
       "      <th>0</th>\n",
       "      <td>1</td>\n",
       "      <td>11349</td>\n",
       "      <td>9606.fa</td>\n",
       "      <td>1.0</td>\n",
       "      <td>Q9UPN3</td>\n",
       "      <td>1.0</td>\n",
       "    </tr>\n",
       "    <tr>\n",
       "      <th>1</th>\n",
       "      <td>1</td>\n",
       "      <td>11349</td>\n",
       "      <td>9913.fa</td>\n",
       "      <td>1.0</td>\n",
       "      <td>F1N6H4</td>\n",
       "      <td>1.0</td>\n",
       "    </tr>\n",
       "    <tr>\n",
       "      <th>2</th>\n",
       "      <td>2</td>\n",
       "      <td>10792</td>\n",
       "      <td>9606.fa</td>\n",
       "      <td>1.0</td>\n",
       "      <td>Q8WXG9</td>\n",
       "      <td>1.0</td>\n",
       "    </tr>\n",
       "    <tr>\n",
       "      <th>3</th>\n",
       "      <td>2</td>\n",
       "      <td>10792</td>\n",
       "      <td>9913.fa</td>\n",
       "      <td>1.0</td>\n",
       "      <td>F1N0A6</td>\n",
       "      <td>1.0</td>\n",
       "    </tr>\n",
       "    <tr>\n",
       "      <th>4</th>\n",
       "      <td>3</td>\n",
       "      <td>10774</td>\n",
       "      <td>9606.fa</td>\n",
       "      <td>1.0</td>\n",
       "      <td>Q8WXH0</td>\n",
       "      <td>1.0</td>\n",
       "    </tr>\n",
       "  </tbody>\n",
       "</table>\n",
       "</div>"
      ],
      "text/plain": [
       "   group_id  cluster_id  species  score uniprot_id  bootstrap\n",
       "0         1       11349  9606.fa    1.0     Q9UPN3        1.0\n",
       "1         1       11349  9913.fa    1.0     F1N6H4        1.0\n",
       "2         2       10792  9606.fa    1.0     Q8WXG9        1.0\n",
       "3         2       10792  9913.fa    1.0     F1N0A6        1.0\n",
       "4         3       10774  9606.fa    1.0     Q8WXH0        1.0"
      ]
     },
     "execution_count": 16,
     "metadata": {},
     "output_type": "execute_result"
    }
   ],
   "source": [
    "# Extract and save IDs to files for BioMart upload\n",
    "import pandas as pd\n",
    "\n",
    "# Load your data\n",
    "df = pd.read_csv('SQLtable.9606.fa-9913.fa', sep='\\t', \n",
    "                 names=['group_id', 'cluster_id', 'species', 'score', 'uniprot_id', 'bootstrap'])\n",
    "df.head()"
   ]
  },
  {
   "cell_type": "code",
   "execution_count": 17,
   "metadata": {},
   "outputs": [
    {
     "name": "stdout",
     "output_type": "stream",
     "text": [
      "Created human_uniprot_ids.txt with 16754 IDs\n",
      "Created cattle_uniprot_ids.txt with 17046 IDs\n"
     ]
    }
   ],
   "source": [
    "\n",
    "# Filter main orthologs\n",
    "main_orthologs = df[df['score'] == 1.0]\n",
    "\n",
    "# Extract human IDs\n",
    "human_ids = main_orthologs[main_orthologs['species'] == '9606.fa']['uniprot_id'].unique()\n",
    "with open('human_uniprot_ids.txt', 'w') as f:\n",
    "    for uid in human_ids:\n",
    "        f.write(f'{uid}\\n')\n",
    "\n",
    "# Extract species IDs  \n",
    "cattle_ids = main_orthologs[main_orthologs['species'] == '9913.fa']['uniprot_id'].unique()\n",
    "with open('cattle_uniprot_ids.txt', 'w') as f:\n",
    "    for uid in cattle_ids:\n",
    "        f.write(f'{uid}\\n')\n",
    "\n",
    "print(f\"Created human_uniprot_ids.txt with {len(human_ids)} IDs\")\n",
    "print(f\"Created cattle_uniprot_ids.txt with {len(cattle_ids)} IDs\")"
   ]
  },
  {
   "cell_type": "code",
   "execution_count": 8,
   "metadata": {},
   "outputs": [
    {
     "name": "stdout",
     "output_type": "stream",
     "text": [
      "total 1560\n",
      "-rw-r--r-- 1 bbf3630 7073630  116373 Jun  4 15:37 human_uniprot_ids.txt\n",
      "-rw-r--r-- 1 bbf3630 7073630   23173 Jun  4 15:33 prepare_orthologs.ipynb\n",
      "-rw-r--r-- 1 bbf3630 7073630  121081 Jun  4 15:37 rat_uniprot_ids.txt\n",
      "-rw-r--r-- 1 bbf3630 7073630 1158427 Jun  4 15:32 SQLtable.9606.fa-10116.fa\n"
     ]
    }
   ],
   "source": [
    "!ls -l"
   ]
  },
  {
   "cell_type": "code",
   "execution_count": 4,
   "metadata": {},
   "outputs": [],
   "source": [
    "# Filter for main orthologs (score = 1.0)\n",
    "main_orthologs = df[df['score'] == 1.0]\n",
    "\n",
    "# Separate by species\n",
    "human_orthologs = main_orthologs[main_orthologs['species'] == '9606.fa']\n",
    "cattle_orthologs = main_orthologs[main_orthologs['species'] == '9913.fa']\n"
   ]
  },
  {
   "cell_type": "code",
   "execution_count": 6,
   "metadata": {},
   "outputs": [
    {
     "data": {
      "text/html": [
       "<div>\n",
       "<style scoped>\n",
       "    .dataframe tbody tr th:only-of-type {\n",
       "        vertical-align: middle;\n",
       "    }\n",
       "\n",
       "    .dataframe tbody tr th {\n",
       "        vertical-align: top;\n",
       "    }\n",
       "\n",
       "    .dataframe thead th {\n",
       "        text-align: right;\n",
       "    }\n",
       "</style>\n",
       "<table border=\"1\" class=\"dataframe\">\n",
       "  <thead>\n",
       "    <tr style=\"text-align: right;\">\n",
       "      <th></th>\n",
       "      <th>group_id</th>\n",
       "      <th>cluster_id</th>\n",
       "      <th>species</th>\n",
       "      <th>score</th>\n",
       "      <th>uniprot_id</th>\n",
       "      <th>bootstrap</th>\n",
       "    </tr>\n",
       "  </thead>\n",
       "  <tbody>\n",
       "    <tr>\n",
       "      <th>1</th>\n",
       "      <td>1</td>\n",
       "      <td>11349</td>\n",
       "      <td>9913.fa</td>\n",
       "      <td>1.0</td>\n",
       "      <td>F1N6H4</td>\n",
       "      <td>1.0</td>\n",
       "    </tr>\n",
       "    <tr>\n",
       "      <th>3</th>\n",
       "      <td>2</td>\n",
       "      <td>10792</td>\n",
       "      <td>9913.fa</td>\n",
       "      <td>1.0</td>\n",
       "      <td>F1N0A6</td>\n",
       "      <td>1.0</td>\n",
       "    </tr>\n",
       "    <tr>\n",
       "      <th>5</th>\n",
       "      <td>3</td>\n",
       "      <td>10774</td>\n",
       "      <td>9913.fa</td>\n",
       "      <td>1.0</td>\n",
       "      <td>F1MF78</td>\n",
       "      <td>1.0</td>\n",
       "    </tr>\n",
       "    <tr>\n",
       "      <th>7</th>\n",
       "      <td>4</td>\n",
       "      <td>10272</td>\n",
       "      <td>9913.fa</td>\n",
       "      <td>1.0</td>\n",
       "      <td>E1BE11</td>\n",
       "      <td>1.0</td>\n",
       "    </tr>\n",
       "    <tr>\n",
       "      <th>9</th>\n",
       "      <td>5</td>\n",
       "      <td>9733</td>\n",
       "      <td>9913.fa</td>\n",
       "      <td>1.0</td>\n",
       "      <td>E1BHT5</td>\n",
       "      <td>1.0</td>\n",
       "    </tr>\n",
       "  </tbody>\n",
       "</table>\n",
       "</div>"
      ],
      "text/plain": [
       "   group_id  cluster_id  species  score uniprot_id  bootstrap\n",
       "1         1       11349  9913.fa    1.0     F1N6H4        1.0\n",
       "3         2       10792  9913.fa    1.0     F1N0A6        1.0\n",
       "5         3       10774  9913.fa    1.0     F1MF78        1.0\n",
       "7         4       10272  9913.fa    1.0     E1BE11        1.0\n",
       "9         5        9733  9913.fa    1.0     E1BHT5        1.0"
      ]
     },
     "execution_count": 6,
     "metadata": {},
     "output_type": "execute_result"
    }
   ],
   "source": [
    "cattle_orthologs.head()"
   ]
  },
  {
   "cell_type": "code",
   "execution_count": 7,
   "metadata": {},
   "outputs": [
    {
     "data": {
      "text/html": [
       "<div>\n",
       "<style scoped>\n",
       "    .dataframe tbody tr th:only-of-type {\n",
       "        vertical-align: middle;\n",
       "    }\n",
       "\n",
       "    .dataframe tbody tr th {\n",
       "        vertical-align: top;\n",
       "    }\n",
       "\n",
       "    .dataframe thead th {\n",
       "        text-align: right;\n",
       "    }\n",
       "</style>\n",
       "<table border=\"1\" class=\"dataframe\">\n",
       "  <thead>\n",
       "    <tr style=\"text-align: right;\">\n",
       "      <th></th>\n",
       "      <th>group_id</th>\n",
       "      <th>cluster_id</th>\n",
       "      <th>species</th>\n",
       "      <th>score</th>\n",
       "      <th>uniprot_id</th>\n",
       "      <th>bootstrap</th>\n",
       "    </tr>\n",
       "  </thead>\n",
       "  <tbody>\n",
       "    <tr>\n",
       "      <th>0</th>\n",
       "      <td>1</td>\n",
       "      <td>11349</td>\n",
       "      <td>9606.fa</td>\n",
       "      <td>1.0</td>\n",
       "      <td>Q9UPN3</td>\n",
       "      <td>1.0</td>\n",
       "    </tr>\n",
       "    <tr>\n",
       "      <th>2</th>\n",
       "      <td>2</td>\n",
       "      <td>10792</td>\n",
       "      <td>9606.fa</td>\n",
       "      <td>1.0</td>\n",
       "      <td>Q8WXG9</td>\n",
       "      <td>1.0</td>\n",
       "    </tr>\n",
       "    <tr>\n",
       "      <th>4</th>\n",
       "      <td>3</td>\n",
       "      <td>10774</td>\n",
       "      <td>9606.fa</td>\n",
       "      <td>1.0</td>\n",
       "      <td>Q8WXH0</td>\n",
       "      <td>1.0</td>\n",
       "    </tr>\n",
       "    <tr>\n",
       "      <th>6</th>\n",
       "      <td>4</td>\n",
       "      <td>10272</td>\n",
       "      <td>9606.fa</td>\n",
       "      <td>1.0</td>\n",
       "      <td>Q96RW7</td>\n",
       "      <td>1.0</td>\n",
       "    </tr>\n",
       "    <tr>\n",
       "      <th>8</th>\n",
       "      <td>5</td>\n",
       "      <td>9733</td>\n",
       "      <td>9606.fa</td>\n",
       "      <td>1.0</td>\n",
       "      <td>Q5T4S7</td>\n",
       "      <td>1.0</td>\n",
       "    </tr>\n",
       "  </tbody>\n",
       "</table>\n",
       "</div>"
      ],
      "text/plain": [
       "   group_id  cluster_id  species  score uniprot_id  bootstrap\n",
       "0         1       11349  9606.fa    1.0     Q9UPN3        1.0\n",
       "2         2       10792  9606.fa    1.0     Q8WXG9        1.0\n",
       "4         3       10774  9606.fa    1.0     Q8WXH0        1.0\n",
       "6         4       10272  9606.fa    1.0     Q96RW7        1.0\n",
       "8         5        9733  9606.fa    1.0     Q5T4S7        1.0"
      ]
     },
     "execution_count": 7,
     "metadata": {},
     "output_type": "execute_result"
    }
   ],
   "source": [
    "human_orthologs.head()\n"
   ]
  },
  {
   "cell_type": "code",
   "execution_count": 9,
   "metadata": {},
   "outputs": [],
   "source": [
    "\n",
    "# Find ortholog pairs\n",
    "ortholog_pairs = []\n",
    "for group_id in main_orthologs['group_id'].unique():\n",
    "    human_genes = human_orthologs[human_orthologs['group_id'] == group_id]['uniprot_id'].tolist()\n",
    "    cattle_genes = cattle_orthologs[cattle_orthologs['group_id'] == group_id]['uniprot_id'].tolist()\n",
    "    \n",
    "    # Create pairs (handling 1:many relationships)\n",
    "    for h_gene in human_genes:\n",
    "        for c_gene in cattle_genes:\n",
    "            ortholog_pairs.append((h_gene, c_gene))\n",
    "\n",
    "# Save UniProt pairs for conversion\n",
    "with open('uniprot_pairs.txt', 'w') as f:\n",
    "    f.write('human_uniprot\\tcattle_uniprot\\n')\n",
    "    for h, y in ortholog_pairs:\n",
    "        f.write(f'{h}\\t{y}\\n')"
   ]
  },
  {
   "cell_type": "code",
   "execution_count": 13,
   "metadata": {},
   "outputs": [
    {
     "name": "stdout",
     "output_type": "stream",
     "text": [
      "total 2304\n",
      "-rw-r--r-- 1 bbf3630 7073630  116373 Jun  4 15:37 human_uniprot_ids.txt\n",
      "-rw-r--r-- 1 bbf3630 7073630   23173 Jun  4 15:33 prepare_orthologs.ipynb\n",
      "-rw-r--r-- 1 bbf3630 7073630  121081 Jun  4 15:37 rat_uniprot_ids.txt\n",
      "-rw-r--r-- 1 bbf3630 7073630 1158427 Jun  4 15:32 SQLtable.9606.fa-10116.fa\n",
      "-rw-r--r-- 1 bbf3630 7073630  239330 Jun  4 15:41 uniprot_pairs.txt\n"
     ]
    }
   ],
   "source": [
    "!ls -l"
   ]
  },
  {
   "cell_type": "code",
   "execution_count": 10,
   "metadata": {},
   "outputs": [
    {
     "name": "stdout",
     "output_type": "stream",
     "text": [
      "human_uniprot\tcattle_uniprot\n",
      "Q9UPN3\tF1N6H4\n",
      "Q8WXG9\tF1N0A6\n",
      "Q8WXH0\tF1MF78\n",
      "Q96RW7\tE1BE11\n",
      "Q5T4S7\tE1BHT5\n",
      "Q9NU22\tE1BC24\n",
      "Q92736\tE1BHV1\n",
      "O95714\tE1B782\n",
      "Q6V0I7\tE1B949\n"
     ]
    }
   ],
   "source": [
    "!head uniprot_pairs.txt"
   ]
  },
  {
   "cell_type": "code",
   "execution_count": 17,
   "metadata": {},
   "outputs": [
    {
     "name": "stdout",
     "output_type": "stream",
     "text": [
      "total 4936\n",
      "-rw-r--r-- 1 bbf3630 7073630  161848 Jun  4 16:00 homogene.txt\n",
      "-rw-r--r-- 1 bbf3630 7073630  116373 Jun  4 15:37 human_uniprot_ids.txt\n",
      "-rw-r--r-- 1 bbf3630 7073630 1017152 Jun  4 15:58 mart_export_human.txt\n",
      "-rw-r--r-- 1 bbf3630 7073630  136811 Jun  4 15:58 mart_export_rat.txt\n",
      "-rw-r--r-- 1 bbf3630 7073630   23173 Jun  4 15:33 prepare_orthologs.ipynb\n",
      "-rw-r--r-- 1 bbf3630 7073630  121081 Jun  4 15:37 rat_uniprot_ids.txt\n",
      "-rw-r--r-- 1 bbf3630 7073630 1158427 Jun  4 15:32 SQLtable.9606.fa-10116.fa\n",
      "-rw-r--r-- 1 bbf3630 7073630  239330 Jun  4 15:41 uniprot_pairs.txt\n"
     ]
    }
   ],
   "source": [
    "!ls -l"
   ]
  },
  {
   "cell_type": "code",
   "execution_count": 20,
   "metadata": {},
   "outputs": [
    {
     "name": "stdout",
     "output_type": "stream",
     "text": [
      "4625 homogene.txt\n"
     ]
    }
   ],
   "source": [
    "!wc -l homogene.txt"
   ]
  },
  {
   "cell_type": "code",
   "execution_count": 18,
   "metadata": {},
   "outputs": [],
   "source": [
    "import pandas as pd\n",
    "import re\n",
    "\n",
    "def load_biomart_map(path, gene_col=\"Gene stable ID\",\n",
    "                     sp_col=\"UniProtKB/Swiss-Prot ID\",\n",
    "                     trembl_col=\"UniProtKB/TrEMBL ID\",\n",
    "                     species_tag=\"hsa\"):\n",
    "    df = pd.read_csv(path, sep=\"\\t\", dtype=str).rename(columns=lambda c: c.strip())\n",
    "    # Keep only columns we need (some exports add extras)\n",
    "    keep = [c for c in [gene_col, sp_col, trembl_col] if c in df.columns]\n",
    "    df = df[keep].copy()\n",
    "\n",
    "    # Melt Swiss-Prot + TrEMBL into one 'uniprot' column\n",
    "    value_vars = [c for c in [sp_col, trembl_col] if c in df.columns]\n",
    "    if not value_vars:\n",
    "        raise ValueError(f\"{path}: no UniProt columns found (Swiss-Prot/TrEMBL). Re-export with both.\")\n",
    "\n",
    "    m = (\n",
    "        df.melt(id_vars=[gene_col], value_vars=value_vars, value_name=\"uniprot\")\n",
    "          .drop(columns=\"variable\")\n",
    "          .dropna(subset=[\"uniprot\", gene_col])\n",
    "          .drop_duplicates()\n",
    "    )\n",
    "    # Clean whitespace, drop empties\n",
    "    m[\"uniprot\"] = m[\"uniprot\"].str.strip()\n",
    "    m = m[m[\"uniprot\"] != \"\"].copy()\n",
    "\n",
    "    # Rename gene column to species code for clarity\n",
    "    m = m.rename(columns={gene_col: species_tag})\n",
    "    return m  # columns: [species_tag, uniprot]\n",
    "\n",
    "def create_egio_ortholog_file(uniprot_pairs_path,\n",
    "                              human_map_path, cattle_map_path,\n",
    "                              out_pairs=\"homogene1.txt\"):\n",
    "    # Load mappings (include BOTH Swiss-Prot & TrEMBL)\n",
    "    hmap = load_biomart_map(human_map_path, species_tag=\"hsa\")\n",
    "    bmap = load_biomart_map(cattle_map_path, species_tag=\"bta\")\n",
    "\n",
    "    # Load UniProt ortholog pairs (two columns: human_uniprot, cattle_uniprot)\n",
    "    pairs = pd.read_csv(uniprot_pairs_path, sep=\"\\t\", dtype=str).rename(columns=lambda c: c.strip())\n",
    "    if not {\"human_uniprot\", \"cattle_uniprot\"}.issubset(pairs.columns):\n",
    "        raise ValueError(\"uniprot_pairs.txt must have columns: human_uniprot, cattle_uniprot\")\n",
    "\n",
    "    # Merge to get Ensembl Gene IDs\n",
    "    tmp = (pairs\n",
    "           .merge(hmap, left_on=\"human_uniprot\", right_on=\"uniprot\", how=\"left\")\n",
    "           .drop(columns=[\"uniprot\"])\n",
    "           .merge(bmap, left_on=\"cattle_uniprot\", right_on=\"uniprot\", how=\"left\", suffixes=(\"\", \"_bta\"))\n",
    "           .drop(columns=[\"uniprot\"]))\n",
    "\n",
    "    # Keep rows that mapped to both genes\n",
    "    def keep_gene(x, pat): \n",
    "        return x.notna() & x.str.match(pat)\n",
    "\n",
    "    pat_hsa = r\"^ENSG[0-9]+(\\.[0-9]+)?$\"\n",
    "    pat_bta = r\"^ENSBTAG[0-9]+(\\.[0-9]+)?$\"\n",
    "\n",
    "    mapped = tmp[ keep_gene(tmp[\"hsa\"], pat_hsa) & keep_gene(tmp[\"bta\"], pat_bta) ].copy()\n",
    "\n",
    "    # Optionally strip version suffixes like \".12\"\n",
    "    mapped[\"hsa\"] = mapped[\"hsa\"].str.replace(r\"\\.[0-9]+$\", \"\", regex=True)\n",
    "    mapped[\"bta\"] = mapped[\"bta\"].str.replace(r\"\\.[0-9]+$\", \"\", regex=True)\n",
    "\n",
    "    # De-duplicate gene pairs\n",
    "    mapped = mapped[[\"hsa\", \"bta\"]].drop_duplicates()\n",
    "\n",
    "    # Write EGIO file\n",
    "    with open(out_pairs, \"w\") as f:\n",
    "        f.write(\"hsa\\tbta\\n\")\n",
    "        for h, b in mapped.sort_values([\"hsa\", \"bta\"]).itertuples(index=False):\n",
    "            f.write(f\"{h}\\t{b}\\n\")\n",
    "\n",
    "    # Simple stats\n",
    "    total_pairs = len(pairs)\n",
    "    ok = len(mapped)\n",
    "    print(f\"Pairs in uniprot_pairs: {total_pairs}\")\n",
    "    print(f\"Mapped to Ensembl genes: {ok} ({ok/total_pairs:.1%})\")\n",
    "    # Helpful misses\n",
    "    missing_h = pairs[~pairs[\"human_uniprot\"].isin(hmap[\"uniprot\"])].human_uniprot.unique()[:10]\n",
    "    missing_b = pairs[~pairs[\"cattle_uniprot\"].isin(bmap[\"uniprot\"])].cattle_uniprot.unique()[:10]\n",
    "    print(f\"Example human UniProt with no mapping: {list(missing_h)}\")\n",
    "    print(f\"Example cattle UniProt with no mapping: {list(missing_b)}\")"
   ]
  },
  {
   "cell_type": "code",
   "execution_count": 20,
   "metadata": {},
   "outputs": [
    {
     "name": "stdout",
     "output_type": "stream",
     "text": [
      "Pairs in uniprot_pairs: 17136\n",
      "Mapped to Ensembl genes: 14385 (83.9%)\n",
      "Example human UniProt with no mapping: ['A2VEC9', 'Q9Y4D8', 'Q9UMZ3', 'Q7Z2Y8', 'P24928', 'Q2KHR3', 'Q9BYB0', 'Q02817', 'Q96NW7', 'Q8TE59']\n",
      "Example cattle UniProt with no mapping: ['A0A3Q1MUQ4', 'A0A3Q1N7T9', 'A0A3Q1M7H2', 'F1MER7', 'A0A3Q1MGJ7', 'A0A3Q1MEB6', 'A0A3Q1LNJ1', 'A0A3Q1LTH1', 'E1BNF6', 'A0A3Q1MFV7']\n"
     ]
    }
   ],
   "source": [
    "create_egio_ortholog_file(\"uniprot_pairs.txt\", \"mart_export_human.txt\", \"mart_export_cattle.txt\")\n"
   ]
  },
  {
   "cell_type": "code",
   "execution_count": 21,
   "metadata": {},
   "outputs": [
    {
     "name": "stdout",
     "output_type": "stream",
     "text": [
      "total 14008\n",
      "-rw-r--r-- 1 bbf3630 7073630 1921041 Sep 24 15:24 biomart_hsa_bta.tsv\n",
      "-rw-r--r-- 1 bbf3630 7073630  422237 Sep 24 15:26 bta_ensembl_ids.txt\n",
      "-rw-r--r-- 1 bbf3630 7073630  132218 Sep 24 16:26 cattle_uniprot_ids.txt\n",
      "-rw-r--r-- 1 bbf3630 7073630  503483 Sep 24 16:27 homogene1.txt\n",
      "-rw-r--r-- 1 bbf3630 7073630  777813 Sep 24 15:27 homogene.txt\n",
      "-rw-r--r-- 1 bbf3630 7073630  355568 Sep 24 15:26 hsa_ensembl_ids.txt\n",
      "-rw-r--r-- 1 bbf3630 7073630  117654 Sep 24 16:26 human_uniprot_ids.txt\n",
      "-rw-r--r-- 1 bbf3630 7073630 1495493 Sep 24 16:25 mart_export_cattle.txt\n",
      "-rw-r--r-- 1 bbf3630 7073630 5395140 Sep 24 16:24 mart_export_human.txt\n",
      "-rw-r--r-- 1 bbf3630 7073630  777805 Sep 24 15:26 pairs_dedup.tsv\n",
      "-rw-r--r-- 1 bbf3630 7073630  777805 Sep 24 15:25 pairs_raw.tsv\n",
      "-rw-r--r-- 1 bbf3630 7073630  777805 Sep 24 15:26 pairs.tsv\n",
      "-rw-r--r-- 1 bbf3630 7073630   19930 Aug 27 22:45 prepare_orthologs.ipynb\n",
      "-rw-r--r-- 1 bbf3630 7073630       0 Sep 24 15:33 rat_uniprot_ids.txt\n",
      "-rw-r--r-- 1 bbf3630 7073630 1209026 Sep 24 12:53 SQLtable.9606.fa-9913.fa\n",
      "-rw-r--r-- 1 bbf3630 7073630  253341 Sep 24 15:37 uniprot_pairs.txt\n"
     ]
    }
   ],
   "source": [
    "!ls -l"
   ]
  },
  {
   "cell_type": "code",
   "execution_count": null,
   "metadata": {},
   "outputs": [],
   "source": []
  }
 ],
 "metadata": {
  "kernelspec": {
   "display_name": "base",
   "language": "python",
   "name": "python3"
  },
  "language_info": {
   "codemirror_mode": {
    "name": "ipython",
    "version": 3
   },
   "file_extension": ".py",
   "mimetype": "text/x-python",
   "name": "python",
   "nbconvert_exporter": "python",
   "pygments_lexer": "ipython3",
   "version": "3.12.9"
  }
 },
 "nbformat": 4,
 "nbformat_minor": 2
}
