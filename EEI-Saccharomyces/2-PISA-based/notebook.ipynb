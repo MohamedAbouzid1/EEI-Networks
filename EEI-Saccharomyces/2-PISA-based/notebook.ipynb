{
 "cells": [
  {
   "cell_type": "code",
   "execution_count": 3,
   "metadata": {},
   "outputs": [],
   "source": [
    "# Python script to count unique IDs in the first column and write them to a file\n",
    "def count_unique_ids(file_path, output_file=\"unique_pdb_ids.txt\"):\n",
    "    unique_ids = set()\n",
    "    \n",
    "    with open(file_path, 'r') as f:\n",
    "        # Skip header line\n",
    "        next(f)\n",
    "        for line in f:\n",
    "            if line.strip():\n",
    "                columns = line.strip().split('\\t')\n",
    "                unique_ids.add(columns[0])\n",
    "    \n",
    "    # Write unique IDs to output file\n",
    "    with open(output_file, 'w') as out_f:\n",
    "        for pdb_id in sorted(unique_ids):\n",
    "            out_f.write(f\"{pdb_id}\\n\")\n",
    "    \n",
    "    print(f\"Total unique IDs found: {len(unique_ids)}\")\n",
    "    print(f\"Unique PDB IDs have been written to {output_file}\")\n",
    "    return unique_ids\n"
   ]
  },
  {
   "cell_type": "code",
   "execution_count": 5,
   "metadata": {},
   "outputs": [
    {
     "name": "stdout",
     "output_type": "stream",
     "text": [
      "Total unique IDs found: 216\n",
      "Unique PDB IDs have been written to /cosybio/project/mabouzid/EEI_networks/EEI-Conservation-main/data/unique_pdb_ids_mus.txt\n",
      "Unique IDs: ['1abo', '1awc', '1b07', '1bqh', '1dow', '1gbr', '1ikn', '1j19', '1jeg', '1juf', '1k8d', '1kgy', '1kj3', '1kyf', '1leg', '1lez', '1lk2', '1lnu', '1oeb', '1oy3', '1pq1', '1s4z', '1s7q', '1shw', '1uef', '1uj0', '1uti', '1vet', '1xdk', '1y19', '1ymt', '2bzw', '2c1m', '2ckl', '2clv', '2clz', '2ems', '2f4m', '2f8n', '2fnj', '2hdx', '2hmh', '2j3t', '2j3w', '2jkr', '2ld7', '2nla', '2o26', '2pbi', '2psm', '2ptt', '2ql2', '2qpy', '2qxv', '2rm0', '2v87', '2v8c', '2v8f', '2vof', '2vog', '2voh', '2voi', '2w10', '2wd5', '2wp1', '2wp2', '2xl2', '2xl3', '2z32', '2zxx', '3a9j', '3a9k', '3ade', '3aji', '3bp6', '3c7k', '3c8k', '3cqx', '3dmm', '3eg5', '3ejj', '3f5c', '3f7d', '3hs8', '3jv6', '3kio', '3l51', '3mj7', '3ml4', '3mnp', '3o7l', '3oky', '3oux', '3qbq', '3ro3', '3t6q', '3tnp', '3ul0', '3unb', '3unf', '3utm', '3vq2', '3wcy', '3wn7', '3ws3', '3zin', '4apx', '4at7', '4au7', '4b1u', '4b9w', '4c99', '4ckt', '4dg3', '4dow', '4e4d', '4exp', '4f38', '4fjo', '4ghu', '4gnt', '4kp3', '4loo', '4m69', '4nn5', '4ons', '4p6z', '4ru2', '4uwx', '4w8p', '4yn0', '4zi3', '4zlk', '5b1m', '5chv', '5et0', '5gmi', '5gmj', '5ix2', '5izu', '5j6h', '5kxh', '5ky4', '5mc9', '5mmz', '5mx5', '5naf', '5ow5', '5tvq', '5umz', '5vi4', '5vjx', '5wrd', '5xhz', '5xm0', '5y04', '5y3t', '5yqg', '5yr0', '5z2m', '5zdz', '5ze0', '6a97', '6dg5', '6e3u', '6e7d', '6g9q', '6gb7', '6j68', '6j69', '6jq2', '6jzd', '6kip', '6kkg', '6mkz', '6mm7', '6mng', '6rmv', '6rsw', '6weo', '6y9n', '7b2i', '7cdb', '7cpu', '7cqp', '7d7f', '7eeb', '7exe', '7k3s', '7nz9', '7o3h', '7os4', '7qwv', '7r86', '7roy', '7rpk', '7v7l', '7wz6', '7ykf', '7yki', '7z3r', '7z8z', '8bbj', '8cr5', '8cr6', '8d5f', '8d5j', '8foi', '8g4x', '8h96', '8olt', '8om1', '8pki', '8umo', '8vjj', '8wwy']\n"
     ]
    }
   ],
   "source": [
    "\n",
    "file_path = \"/cosybio/project/mabouzid/EEI_networks/EEI-Conservation-main/data/uniprot_pdb_Ensembl_finalized_mus.txt\"\n",
    "output_file = \"/cosybio/project/mabouzid/EEI_networks/EEI-Conservation-main/data/unique_pdb_ids_mus.txt\"\n",
    "unique_ids = count_unique_ids(file_path, output_file)\n",
    "print(\"Unique IDs:\", sorted(list(unique_ids)))"
   ]
  },
  {
   "cell_type": "code",
   "execution_count": 7,
   "metadata": {},
   "outputs": [],
   "source": [
    "def compare_pdb_ids(unique_ids_file, dir_list_file):\n",
    "    \"\"\"\n",
    "    Compare PDB IDs from two files and find common entries.\n",
    "    \n",
    "    Args:\n",
    "        unique_ids_file: Path to the file with unique PDB IDs (from previous script)\n",
    "        dir_list_file: Path to the file with directory names (from ls command)\n",
    "        output_file: Path to save the common PDB IDs\n",
    "    \"\"\"\n",
    "    # Read unique PDB IDs from first file\n",
    "    with open(unique_ids_file, 'r') as f:\n",
    "        unique_ids = set(line.strip() for line in f if line.strip())\n",
    "    \n",
    "    # Read directory list from second file\n",
    "    with open(dir_list_file, 'r') as f:\n",
    "        dir_ids = set(line.strip() for line in f if line.strip())\n",
    "    \n",
    "    # Find common IDs\n",
    "    common_ids = unique_ids.intersection(dir_ids)\n",
    "    \n",
    "    # Print summary\n",
    "    print(f\"Unique PDB IDs in first file: {len(unique_ids)}\")\n",
    "    print(f\"Directory names in second file: {len(dir_ids)}\")\n",
    "    print(f\"Common PDB IDs found in both files: {len(common_ids)}\")\n",
    "    \n",
    "    # Return counts for further analysis if needed\n",
    "    return {\n",
    "        \"unique_ids_count\": len(unique_ids),\n",
    "        \"dir_ids_count\": len(dir_ids),\n",
    "        \"common_ids_count\": len(common_ids),\n",
    "        \"common_ids\": common_ids\n",
    "    }"
   ]
  },
  {
   "cell_type": "code",
   "execution_count": 8,
   "metadata": {},
   "outputs": [
    {
     "name": "stdout",
     "output_type": "stream",
     "text": [
      "Unique PDB IDs in first file: 2608\n",
      "Directory names in second file: 216\n",
      "Common PDB IDs found in both files: 2\n"
     ]
    },
    {
     "data": {
      "text/plain": [
       "{'unique_ids_count': 2608,\n",
       " 'dir_ids_count': 216,\n",
       " 'common_ids_count': 2,\n",
       " 'common_ids': {'2j3t', '4p6z'}}"
      ]
     },
     "execution_count": 8,
     "metadata": {},
     "output_type": "execute_result"
    }
   ],
   "source": [
    "dir_list = \"/cosybio/project/mabouzid/EEI_networks/EEI-Conservation-main/data/unique_pdb_ids_mus.txt\"\n",
    "unique = \"/cosybio/project/mabouzid/EEI_networks/EEI-Conservation-main/data/pdb_directory_list.txt\"\n",
    "compare_pdb_ids(unique, dir_list)"
   ]
  },
  {
   "cell_type": "code",
   "execution_count": null,
   "metadata": {},
   "outputs": [],
   "source": []
  }
 ],
 "metadata": {
  "kernelspec": {
   "display_name": "selenium_env",
   "language": "python",
   "name": "python3"
  },
  "language_info": {
   "codemirror_mode": {
    "name": "ipython",
    "version": 3
   },
   "file_extension": ".py",
   "mimetype": "text/x-python",
   "name": "python",
   "nbconvert_exporter": "python",
   "pygments_lexer": "ipython3",
   "version": "3.9.21"
  }
 },
 "nbformat": 4,
 "nbformat_minor": 2
}
